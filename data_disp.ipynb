{
 "cells": [
  {
   "cell_type": "code",
   "execution_count": 74,
   "metadata": {},
   "outputs": [
    {
     "name": "stdout",
     "output_type": "stream",
     "text": [
      "  index         entity start_id end_id            text\n",
      "0    T1  NORMALIZABLES     2058   2073            Rosa\n",
      "0    T2  NORMALIZABLES     2787   2801  Estreptomicina\n",
      "0    T3  NORMALIZABLES     2723   2734     Doxiciclina\n",
      "0    T4  NORMALIZABLES     1906   1912          calcio\n",
      "0    T5      PROTEINAS     1878   1896       fosfatasa\n",
      "0    T6      PROTEINAS     1866   1869             GGT\n",
      "0    T7      PROTEINAS     1854   1857             GPT\n",
      "0    T8      PROTEINAS     1842   1845             GOT\n",
      "0    T9  NORMALIZABLES     1823   1830         potasio\n",
      "0   T10  NORMALIZABLES     1806   1811           sodio\n",
      "0   T11  NORMALIZABLES     1784   1794      creatinina\n",
      "0   T12  NORMALIZABLES     1769   1773            urea\n",
      "0   T13  NORMALIZABLES     1750   1757         Glucosa\n",
      "0   T14      PROTEINAS     1603   1605              Hb\n"
     ]
    }
   ],
   "source": [
    "import pandas as pd\n",
    "df=pd.read_csv('/home/qcri/Documents/sample/subtrack1/S0004-06142005000700014-1.ann')\n",
    "headers=df.keys()[0].split()\n",
    "data={'index':[headers[0]],'entity':[headers[1]],'start_id':[headers[2]],'end_id':[headers[3]],'text':[headers[4]]}\n",
    "data_upd=pd.DataFrame(data)\n",
    "for i in range(len(df[df.keys()[0]])):\n",
    "    headers=df[df.keys()[0]][i].split()\n",
    "    df1=pd.DataFrame({'index':[headers[0]],'entity':[headers[1]],'start_id':[headers[2]],'end_id':[headers[3]],'text':[headers[4]]})\n",
    "    app=[data_upd,df1]\n",
    "    data_upd=data_upd.append(df1)\n",
    "print(data_upd)"
   ]
  },
  {
   "cell_type": "code",
   "execution_count": null,
   "metadata": {},
   "outputs": [],
   "source": []
  }
 ],
 "metadata": {
  "kernelspec": {
   "display_name": "Python 3",
   "language": "python",
   "name": "python3"
  },
  "language_info": {
   "codemirror_mode": {
    "name": "ipython",
    "version": 3
   },
   "file_extension": ".py",
   "mimetype": "text/x-python",
   "name": "python",
   "nbconvert_exporter": "python",
   "pygments_lexer": "ipython3",
   "version": "3.6.7"
  },
  "varInspector": {
   "cols": {
    "lenName": 16,
    "lenType": 16,
    "lenVar": 40
   },
   "kernels_config": {
    "python": {
     "delete_cmd_postfix": "",
     "delete_cmd_prefix": "del ",
     "library": "var_list.py",
     "varRefreshCmd": "print(var_dic_list())"
    },
    "r": {
     "delete_cmd_postfix": ") ",
     "delete_cmd_prefix": "rm(",
     "library": "var_list.r",
     "varRefreshCmd": "cat(var_dic_list()) "
    }
   },
   "types_to_exclude": [
    "module",
    "function",
    "builtin_function_or_method",
    "instance",
    "_Feature"
   ],
   "window_display": false
  }
 },
 "nbformat": 4,
 "nbformat_minor": 2
}
